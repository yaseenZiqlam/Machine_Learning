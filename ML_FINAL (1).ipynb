{
 "cells": [
  {
   "cell_type": "code",
   "execution_count": null,
   "id": "2a34919e",
   "metadata": {
    "tags": []
   },
   "outputs": [],
   "source": [
    "import numpy as np\n",
    "import pandas as pd\n",
    "import matplotlib.pyplot as plt\n",
    "import seaborn as sns\n",
    "from sklearn.model_selection import train_test_split, cross_val_score\n",
    "from sklearn.preprocessing import MinMaxScaler, StandardScaler\n",
    "from sklearn.linear_model import LinearRegression, LogisticRegression\n",
    "from sklearn.ensemble import RandomForestRegressor, AdaBoostRegressor, RandomForestClassifier\n",
    "from sklearn.tree import DecisionTreeRegressor, DecisionTreeClassifier\n",
    "from sklearn.svm import SVR, SVC\n",
    "from sklearn.metrics import mean_squared_error, r2_score, accuracy_score, classification_report, confusion_matrix\n",
    "from sklearn.feature_selection import SequentialFeatureSelector\n",
    "from sklearn.neighbors import KNeighborsClassifier\n",
    "from sklearn.linear_model import LinearRegression\n",
    "from sklearn.naive_bayes import GaussianNB\n",
    "from sklearn.model_selection import train_test_split, KFold\n",
    "from sklearn.preprocessing import StandardScaler\n",
    "from sklearn.metrics import confusion_matrix, classification_report, accuracy_score\n",
    "from sklearn.model_selection import cross_val_score, cross_val_predict\n",
    "from sklearn.metrics import confusion_matrix, classification_report\n",
    "from sklearn.model_selection import cross_val_predict"
   ]
  },
  {
   "cell_type": "markdown",
   "id": "613c0df4",
   "metadata": {},
   "source": [
    "# part1: Data Preprocessing"
   ]
  },
  {
   "cell_type": "code",
   "execution_count": null,
   "id": "19fd17c4",
   "metadata": {
    "tags": []
   },
   "outputs": [],
   "source": [
    "df=pd.read_csv(\"student4.csv\")"
   ]
  },
  {
   "cell_type": "code",
   "execution_count": null,
   "id": "761d4e0e",
   "metadata": {
    "tags": []
   },
   "outputs": [],
   "source": [
    "df.info()"
   ]
  },
  {
   "cell_type": "code",
   "execution_count": null,
   "id": "b478ff62",
   "metadata": {
    "tags": []
   },
   "outputs": [],
   "source": [
    "df.isnull().sum()"
   ]
  },
  {
   "cell_type": "code",
   "execution_count": null,
   "id": "a4fc9700",
   "metadata": {
    "tags": []
   },
   "outputs": [],
   "source": [
    "def categorize_age(age):\n",
    "    if age <= 18:\n",
    "        return 'Teenager'\n",
    "    elif age <= 22:\n",
    "        return 'Young'\n",
    "  \n",
    "    else:\n",
    "        return -1\n",
    "\n",
    "\n",
    "df['Category_Age'] = df['age'].apply(categorize_age)"
   ]
  },
  {
   "cell_type": "code",
   "execution_count": null,
   "id": "902e40f1",
   "metadata": {
    "tags": []
   },
   "outputs": [],
   "source": [
    "df = pd.get_dummies(df,columns=['Category_Age','school','sex','address','famsize','Pstatus','schoolsup','famsup','paid','activities','nursery','higher','internet','romantic','Mjob','Fjob','reason','guardian'],dtype=int)\n"
   ]
  },
  {
   "cell_type": "code",
   "execution_count": null,
   "id": "47af73bb",
   "metadata": {
    "tags": []
   },
   "outputs": [],
   "source": [
    "df.drop('age', axis=1, inplace=True)"
   ]
  },
  {
   "cell_type": "code",
   "execution_count": null,
   "id": "e0ba5580",
   "metadata": {
    "tags": []
   },
   "outputs": [],
   "source": [
    "numeric_features = df.columns[df.dtypes != 'object']\n",
    "binary_features = ['binary_feature_1', 'binary_feature_2', ..., 'binary_feature_17']\n",
    "numeric_features = [feature for feature in numeric_features if feature not in binary_features]\n",
    "numeric_df = df[numeric_features]\n",
    "scaler = MinMaxScaler()\n",
    "df[numeric_features] = scaler.fit_transform(numeric_df)"
   ]
  },
  {
   "cell_type": "code",
   "execution_count": null,
   "id": "43d508db-6fcd-4c6f-8180-e14d7016d305",
   "metadata": {
    "tags": []
   },
   "outputs": [],
   "source": [
    "df.describe() "
   ]
  },
  {
   "cell_type": "markdown",
   "id": "e1576599",
   "metadata": {},
   "source": [
    "# PART 1: Data Visualization \n"
   ]
  },
  {
   "cell_type": "code",
   "execution_count": null,
   "id": "bf091f22-ec4b-4a51-96b6-b59fe529d2e2",
   "metadata": {
    "tags": []
   },
   "outputs": [],
   "source": [
    "plt.figure(figsize=(60, 70))\n",
    "sns.heatmap(df.corr(), annot=True, cmap='coolwarm', linewidths=.5)"
   ]
  },
  {
   "cell_type": "code",
   "execution_count": null,
   "id": "4fd1cc67-57b5-4c84-b16b-cc0a0a2c92c7",
   "metadata": {
    "tags": []
   },
   "outputs": [],
   "source": [
    "plt.boxplot(df['G3'])\n",
    "plt.title('Box Plot for Feature')\n",
    "plt.xlabel('Feature')\n",
    "plt.ylabel('Values')\n",
    "plt.show()"
   ]
  },
  {
   "cell_type": "code",
   "execution_count": null,
   "id": "a60975d2",
   "metadata": {
    "tags": []
   },
   "outputs": [],
   "source": [
    "df.plot(kind=\"scatter\", x=\"G3\", y=\"G2\")"
   ]
  },
  {
   "cell_type": "code",
   "execution_count": null,
   "id": "9fed828a-7ee3-4ea3-8dfe-1adfae00fd69",
   "metadata": {
    "tags": []
   },
   "outputs": [],
   "source": [
    "plt.boxplot(df['G2'])\n",
    "plt.title('Box Plot for Feature')\n",
    "plt.xlabel('Feature')\n",
    "plt.ylabel('Values')\n",
    "plt.show()"
   ]
  },
  {
   "cell_type": "code",
   "execution_count": null,
   "id": "75e77727-9228-4d8e-a460-ca58b046e771",
   "metadata": {
    "tags": []
   },
   "outputs": [],
   "source": [
    "plt.boxplot(df['G1'])\n",
    "plt.title('Box Plot for Feature')\n",
    "plt.xlabel('Feature')\n",
    "plt.ylabel('Values')\n",
    "plt.show()"
   ]
  },
  {
   "cell_type": "code",
   "execution_count": null,
   "id": "93a634a3",
   "metadata": {
    "tags": []
   },
   "outputs": [],
   "source": [
    "selected_features = ['Fedu', 'traveltime', 'studytime', 'failures', 'famrel', 'Dalc', 'absences', 'G1', 'G2', 'Category_Age_Teenager']\n",
    "plt.figure(figsize=(20, 10))   \n",
    "sns.boxplot(data=df[selected_features])\n",
    "plt.title(f\"Boxplot for Selected Features\")\n",
    "plt.show()"
   ]
  },
  {
   "cell_type": "code",
   "execution_count": null,
   "id": "97e1ce96",
   "metadata": {
    "tags": []
   },
   "outputs": [],
   "source": [
    "df.plot(kind=\"scatter\", x=\"G2\", y=\"absences\")"
   ]
  },
  {
   "cell_type": "code",
   "execution_count": null,
   "id": "7ad31850",
   "metadata": {
    "tags": []
   },
   "outputs": [],
   "source": [
    "selected_features = ['Fedu', 'traveltime', 'studytime', 'failures', 'famrel', 'Dalc', 'absences', 'G1', 'G2', 'Category_Age_Teenager']\n",
    "pd.plotting.scatter_matrix (df[selected_features], figsize = (26,24), diagonal = '')                                          \n",
    "plt.show()"
   ]
  },
  {
   "cell_type": "code",
   "execution_count": null,
   "id": "17cb0e8e-04ca-4186-a77e-a61b92019514",
   "metadata": {
    "tags": []
   },
   "outputs": [],
   "source": [
    "new_corr=df[['G3','G2','G1']].corr()"
   ]
  },
  {
   "cell_type": "code",
   "execution_count": null,
   "id": "b84bc671-a58a-47d5-bbb7-6225aa111982",
   "metadata": {
    "tags": []
   },
   "outputs": [],
   "source": [
    "plt.figure(figsize=(12, 10))\n",
    "sns.heatmap(new_corr, annot=True, cmap='coolwarm', linewidths=.5)"
   ]
  },
  {
   "cell_type": "markdown",
   "id": "6659ba88",
   "metadata": {},
   "source": [
    "# PART 3: Regression hold_out_method"
   ]
  },
  {
   "cell_type": "code",
   "execution_count": null,
   "id": "4a2b7a44",
   "metadata": {
    "tags": []
   },
   "outputs": [],
   "source": [
    "x = df.drop(['G3'], axis=1)\n",
    "y = df['G3']\n",
    "x_train, x_test, y_train, y_test = train_test_split(x, y, test_size=0.3, random_state=42)\n",
    "lr = LinearRegression()\n",
    "lr.fit(x_train, y_train)\n",
    "pred = lr.predict(x_test)\n",
    "pred2 = lr.predict(x_train)\n",
    "selected_features = []\n",
    "model_performance = {}\n",
    "for feature in x_train.columns:\n",
    "    selected_features.append(feature)\n",
    "    model = LinearRegression()\n",
    "    model.fit(x_train[selected_features], y_train)    \n",
    "    y_pred = model.predict(x_test[selected_features])    \n",
    "    r2 = r2_score(y_test, y_pred)\n",
    "    mse = mean_squared_error(y_test, y_pred)   \n",
    "    model_performance[\", \".join(selected_features)] = (r2, mse)    \n",
    "    if len(selected_features) > 1 and r2 < max(model_performance.values())[0]:\n",
    "        selected_features.pop()"
   ]
  },
  {
   "cell_type": "code",
   "execution_count": null,
   "id": "52be83aa",
   "metadata": {
    "tags": []
   },
   "outputs": [],
   "source": [
    "best_features = \"\"\n",
    "best_r2 = 0\n",
    "best_mse = 1000                \n",
    "for features, performance in model_performance.items():\n",
    "    print(\"Selected Features:\", features)\n",
    "    print(\"R-squared Score:\", performance[0])\n",
    "    print(\"Mean Squared Error:\", performance[1])\n",
    "    print('-------------------------------------------------------------------------------------------')\n",
    "    if performance[0] > best_r2:\n",
    "        best_features = features\n",
    "        best_r2 = performance[0]\n",
    "        best_mse = performance[1]\n",
    "print(\"Best Model is:\")\n",
    "print(\"Selected Features:\", best_features)\n",
    "print(\"R-squared Score:\", best_r2)\n",
    "print(\"Mean Squared Error:\", best_mse)"
   ]
  },
  {
   "cell_type": "code",
   "execution_count": null,
   "id": "4499823b",
   "metadata": {
    "tags": []
   },
   "outputs": [],
   "source": [
    "X=df[['Medu', 'Fedu', 'traveltime', 'studytime', 'failures', 'famrel', 'Dalc', 'absences', 'G1', 'G2', 'Category_Age_Teenager', 'Category_Age_Young', 'school_GP', 'school_MS', 'sex_F', 'famsize_GT3', 'famsize_LE3', 'famsup_no', 'famsup_yes', 'paid_no', 'internet_no', 'internet_yes', 'romantic_no', 'romantic_yes', 'Mjob_at_home', 'Mjob_health', 'Mjob_other', 'Fjob_at_home', 'Fjob_health', 'Fjob_other', 'Fjob_services', 'reason_course', 'guardian_mother', 'guardian_other']]\n",
    "Y = df['G3']\n"
   ]
  },
  {
   "cell_type": "code",
   "execution_count": null,
   "id": "fe085fba",
   "metadata": {
    "tags": []
   },
   "outputs": [],
   "source": [
    "X_train, X_test, Y_train, Y_test = train_test_split(X, Y, test_size=0.2, random_state=42)\n",
    "regr = LinearRegression()\n",
    "regr.fit(X_train, Y_train)\n",
    "predicted_labels= regr.predict(X_test)\n",
    "Errors = mean_squared_error(Y_test, regr.predict(X_test))\n",
    "error=np.sqrt(Errors)\n",
    "Y_pred =regr.predict(X_test)\n",
    "r2 = r2_score(Y_test, Y_pred)\n",
    "print(\"R2 score:\", r2)\n",
    "print(\"mean_squared_error=\",error)"
   ]
  },
  {
   "cell_type": "code",
   "execution_count": null,
   "id": "26593266",
   "metadata": {
    "tags": []
   },
   "outputs": [],
   "source": [
    "X_train, X_test, Y_train, Y_test = train_test_split(X, Y, test_size=0.2, random_state=42)\n",
    "rf = RandomForestRegressor()\n",
    "rf.fit(X_train, Y_train)\n",
    "pred = rf.predict(X_test)\n",
    "mse = mean_squared_error(Y_test, pred)\n",
    "print(mse)\n",
    "r2 = r2_score(Y_test, pred)\n",
    "print(r2)"
   ]
  },
  {
   "cell_type": "code",
   "execution_count": null,
   "id": "bf817e46",
   "metadata": {
    "tags": []
   },
   "outputs": [],
   "source": [
    "X_train, X_test, Y_train, Y_test = train_test_split(X, Y, test_size=0.2, random_state=42)\n",
    "dt = DecisionTreeRegressor()\n",
    "dt.fit(X_train, Y_train)\n",
    "pred = dt.predict(X_test)\n",
    "mse = mean_squared_error(Y_test, pred)\n",
    "print(mse)\n",
    "r2 = r2_score(Y_test, pred)\n",
    "print(r2)"
   ]
  },
  {
   "cell_type": "code",
   "execution_count": null,
   "id": "6f6439aa",
   "metadata": {
    "tags": []
   },
   "outputs": [],
   "source": [
    "X_train, X_test, Y_train, Y_test = train_test_split(X, Y, test_size=0.2, random_state=42)\n",
    "ada = AdaBoostRegressor()\n",
    "ada.fit(X_train, Y_train)\n",
    "pred = ada.predict(X_test)\n",
    "mse = mean_squared_error(Y_test, pred)\n",
    "print(mse)\n",
    "r2 = r2_score(Y_test, pred)\n",
    "print(r2)"
   ]
  },
  {
   "cell_type": "code",
   "execution_count": null,
   "id": "87ca93e9",
   "metadata": {
    "tags": []
   },
   "outputs": [],
   "source": [
    "X_train, X_test, Y_train, Y_test = train_test_split(X, Y, test_size=0.2, random_state=42)\n",
    "svr = SVR()\n",
    "svr.fit(X_train, Y_train)\n",
    "pred = svr.predict(X_test)\n",
    "mse = mean_squared_error(Y_test, pred)\n",
    "print(mse)\n",
    "r2 = r2_score(Y_test, pred)\n",
    "print(r2)"
   ]
  },
  {
   "cell_type": "markdown",
   "id": "7fdf978b",
   "metadata": {},
   "source": [
    "# Part 3 (B):LinearRegression() 10-fold cross validation\n"
   ]
  },
  {
   "cell_type": "code",
   "execution_count": null,
   "id": "5298c2fd",
   "metadata": {
    "tags": []
   },
   "outputs": [],
   "source": [
    "from sklearn.model_selection import KFold"
   ]
  },
  {
   "cell_type": "code",
   "execution_count": null,
   "id": "b20686a9",
   "metadata": {
    "tags": []
   },
   "outputs": [],
   "source": [
    "X_train, X_test, Y_train, Y_test = train_test_split(X, Y, test_size=0.2, random_state=42)\n",
    "num_folds = 10\n",
    "kf = KFold(n_splits=num_folds, shuffle=True, random_state=42)\n",
    "model = LinearRegression()\n",
    "mse_scores = []\n",
    "r2_scores = []\n",
    "for fold, (train_index, test_index) in enumerate(kf.split(X, Y)):\n",
    "    X_train, X_test = X.iloc[train_index], X.iloc[test_index]\n",
    "    y_train, y_test = Y.iloc[train_index], Y.iloc[test_index]\n",
    "    # Fit the model\n",
    "    model.fit(X_train, y_train)\n",
    "    # Make predictions\n",
    "    y_pred = model.predict(X_test)\n",
    "    # Calculate MSE and R2\n",
    "    mse = mean_squared_error(y_test, y_pred)\n",
    "    r2 = r2_score(y_test, y_pred)\n",
    "    mse_scores.append(mse)\n",
    "    r2_scores.append(r2)\n",
    "    print(f\"Fold {fold + 1} - MSE: {mse}, R2: {r2}\")\n",
    "# Calculate average MSE and R2 across all folds\n",
    "avg_mse = sum(mse_scores) / len(mse_scores)\n",
    "avg_r2 = sum(r2_scores) / len(r2_scores)\n",
    "print(f\"\\nAverage MSE: {avg_mse}\")\n",
    "print(f\"Average R2: {avg_r2}\")"
   ]
  },
  {
   "cell_type": "code",
   "execution_count": null,
   "id": "58d51ea6",
   "metadata": {
    "tags": []
   },
   "outputs": [],
   "source": [
    "X_train, X_test, Y_train, Y_test = train_test_split(X, Y, test_size=0.2, random_state=42)\n",
    "num_folds = 10\n",
    "# Initialize KFold\n",
    "kf = KFold(n_splits=num_folds, shuffle=True, random_state=42)\n",
    "# Initialize RandomForestRegressor model\n",
    "model = RandomForestRegressor(n_estimators=100, random_state=42)\n",
    "# Lists to store results\n",
    "mse_scores = []\n",
    "r2_scores = []\n",
    "# Iterate over the folds\n",
    "for fold, (train_index, test_index) in enumerate(kf.split(X, Y)):\n",
    "    X_train, X_test = X.iloc[train_index], X.iloc[test_index]\n",
    "    y_train, y_test = Y.iloc[train_index], Y.iloc[test_index]\n",
    "    # Fit the model\n",
    "    model.fit(X_train, y_train)\n",
    "    # Make predictions\n",
    "    y_pred = model.predict(X_test)\n",
    "    # Calculate MSE and R2\n",
    "    mse = mean_squared_error(y_test, y_pred)\n",
    "    r2 = r2_score(y_test, y_pred)\n",
    "    mse_scores.append(mse)\n",
    "    r2_scores.append(r2)\n",
    "    print(f\"Fold {fold + 1} - MSE: {mse}, R2: {r2}\")\n",
    "# Calculate average MSE and R2 across all folds\n",
    "avg_mse = sum(mse_scores) / len(mse_scores)\n",
    "avg_r2 = sum(r2_scores) / len(r2_scores)\n",
    "print(f\"\\nAverage MSE: {avg_mse}\")\n",
    "print(f\"Average R2: {avg_r2}\")"
   ]
  },
  {
   "cell_type": "code",
   "execution_count": null,
   "id": "9333e45b",
   "metadata": {
    "tags": []
   },
   "outputs": [],
   "source": [
    "X_train, X_test, Y_train, Y_test = train_test_split(X, Y, test_size=0.2, random_state=42)\n",
    "num_folds = 10\n",
    "# Initialize KFold\n",
    "kf = KFold(n_splits=num_folds, shuffle=True, random_state=42)\n",
    "# Initialize DecisionTreeRegressor model\n",
    "model = DecisionTreeRegressor(random_state=42)\n",
    "# Lists to store results\n",
    "mse_scores = []\n",
    "r2_scores = []\n",
    "# Iterate over the folds\n",
    "for fold, (train_index, test_index) in enumerate(kf.split(X, Y)):\n",
    "    X_train, X_test = X.iloc[train_index], X.iloc[test_index]\n",
    "    y_train, y_test = Y.iloc[train_index], Y.iloc[test_index]\n",
    "    # Fit the model\n",
    "    model.fit(X_train, y_train)\n",
    "    # Make predictions\n",
    "    y_pred = model.predict(X_test)\n",
    "    # Calculate MSE and R2\n",
    "    mse = mean_squared_error(y_test, y_pred)\n",
    "    r2 = r2_score(y_test, y_pred)\n",
    "    mse_scores.append(mse)\n",
    "    r2_scores.append(r2)\n",
    "    print(f\"Fold {fold + 1} - MSE: {mse}, R2: {r2}\")\n",
    "# Calculate average MSE and R2 across all folds\n",
    "avg_mse = sum(mse_scores) / len(mse_scores)\n",
    "avg_r2 = sum(r2_scores) / len(r2_scores)\n",
    "print(f\"\\nAverage MSE: {avg_mse}\")\n",
    "print(f\"Average R2: {avg_r2}\")"
   ]
  },
  {
   "cell_type": "code",
   "execution_count": null,
   "id": "ae8126e5",
   "metadata": {
    "tags": []
   },
   "outputs": [],
   "source": [
    "X_train, X_test, Y_train, Y_test = train_test_split(X, Y, test_size=0.2, random_state=42)\n",
    "num_folds = 10\n",
    "# Initialize KFold\n",
    "kf = KFold(n_splits=num_folds, shuffle=True, random_state=42)\n",
    "# Initialize AdaBoostRegressor model\n",
    "model = AdaBoostRegressor(random_state=42)\n",
    "# Lists to store results\n",
    "mse_scores = []\n",
    "r2_scores = []\n",
    "# Iterate over the folds\n",
    "for fold, (train_index, test_index) in enumerate(kf.split(X, Y)):\n",
    "    X_train, X_test = X.iloc[train_index], X.iloc[test_index]\n",
    "    y_train, y_test = Y.iloc[train_index], Y.iloc[test_index]\n",
    "    # Fit the model\n",
    "    model.fit(X_train, y_train)\n",
    "\n",
    "    # Make predictions\n",
    "    y_pred = model.predict(X_test)\n",
    "\n",
    "    # Calculate MSE and R2\n",
    "    mse = mean_squared_error(y_test, y_pred)\n",
    "    r2 = r2_score(y_test, y_pred)\n",
    "\n",
    "    mse_scores.append(mse)\n",
    "    r2_scores.append(r2)\n",
    "\n",
    "    print(f\"Fold {fold + 1} - MSE: {mse}, R2: {r2}\")\n",
    "\n",
    "# Calculate average MSE and R2 across all folds\n",
    "avg_mse = sum(mse_scores) / len(mse_scores)\n",
    "avg_r2 = sum(r2_scores) / len(r2_scores)\n",
    "\n",
    "print(f\"\\nAverage MSE: {avg_mse}\")\n",
    "print(f\"Average R2: {avg_r2}\")"
   ]
  },
  {
   "cell_type": "code",
   "execution_count": null,
   "id": "1f631982",
   "metadata": {
    "tags": []
   },
   "outputs": [],
   "source": [
    "X_train, X_test, Y_train, Y_test = train_test_split(X, Y, test_size=0.2, random_state=42)\n",
    "num_folds = 10\n",
    "# Initialize KFold\n",
    "kf = KFold(n_splits=num_folds, shuffle=True, random_state=42)\n",
    "# Initialize SVR model\n",
    "model = SVR()\n",
    "# Lists to store results\n",
    "mse_scores = []\n",
    "r2_scores = []\n",
    "# Iterate over the folds\n",
    "for fold, (train_index, test_index) in enumerate(kf.split(X, Y)):\n",
    "    X_train, X_test = X.iloc[train_index], X.iloc[test_index]\n",
    "    y_train, y_test = Y.iloc[train_index], Y.iloc[test_index]\n",
    "    # Fit the model\n",
    "    model.fit(X_train, y_train)\n",
    "    # Make predictions\n",
    "    y_pred = model.predict(X_test)\n",
    "    # Calculate MSE and R2\n",
    "    mse = mean_squared_error(y_test, y_pred)\n",
    "    r2 = r2_score(y_test, y_pred)\n",
    "    mse_scores.append(mse)\n",
    "    r2_scores.append(r2)\n",
    "    print(f\"Fold {fold + 1} - MSE: {mse}, R2: {r2}\")\n",
    "# Calculate average MSE and R2 across all folds\n",
    "avg_mse = sum(mse_scores) / len(mse_scores)\n",
    "avg_r2 = sum(r2_scores) / len(r2_scores)\n",
    "print(f\"\\nAverage MSE: {avg_mse}\")\n",
    "print(f\"Average R2: {avg_r2}\")"
   ]
  },
  {
   "cell_type": "markdown",
   "id": "99c12d05",
   "metadata": {},
   "source": [
    "# PART 2: Classification"
   ]
  },
  {
   "cell_type": "code",
   "execution_count": null,
   "id": "8b9956cf",
   "metadata": {
    "tags": []
   },
   "outputs": [],
   "source": [
    "data = pd.read_csv('student4.csv')"
   ]
  },
  {
   "cell_type": "code",
   "execution_count": null,
   "id": "cbf7263d",
   "metadata": {
    "tags": []
   },
   "outputs": [],
   "source": [
    "numeric_features = data.columns[data.dtypes != 'object']\n",
    "scaler = MinMaxScaler()\n",
    "scaled_data = scaler.fit_transform(data[numeric_features])"
   ]
  },
  {
   "cell_type": "code",
   "execution_count": null,
   "id": "cf72dcff",
   "metadata": {
    "tags": []
   },
   "outputs": [],
   "source": [
    "from sklearn.preprocessing import LabelEncoder\n",
    "le = LabelEncoder()\n",
    "cat_features = ['school', 'sex', 'address', 'famsize', 'Pstatus', 'Mjob', 'Fjob', 'reason', 'guardian', 'schoolsup', 'famsup', 'paid', 'activities', 'nursery', 'higher', 'internet', 'romantic']\n",
    "for feature in cat_features:\n",
    "    data[feature] = le.fit_transform(data[feature])    "
   ]
  },
  {
   "cell_type": "code",
   "execution_count": null,
   "id": "d965c9fb",
   "metadata": {
    "tags": []
   },
   "outputs": [],
   "source": [
    "data['pass'] = np.where(data['G3'] >= 10, 'Pass', 'Fail')\n"
   ]
  },
  {
   "cell_type": "code",
   "execution_count": null,
   "id": "0835493e",
   "metadata": {
    "tags": []
   },
   "outputs": [],
   "source": [
    "selected_features = ['G2', 'G1','higher', 'Medu', 'Fedu', 'Mjob', 'Fjob', 'studytime', 'famsup', 'nursery','activities','paid','internet','famrel','reason','famsize','address']\n",
    "X = data[selected_features]\n",
    "y = data['pass']"
   ]
  },
  {
   "cell_type": "markdown",
   "id": "2b0ae527",
   "metadata": {},
   "source": [
    "# hold-out method"
   ]
  },
  {
   "cell_type": "code",
   "execution_count": null,
   "id": "dc8f3294",
   "metadata": {
    "tags": []
   },
   "outputs": [],
   "source": [
    "from sklearn import svm\n",
    "X_train, X_test, y_train, y_test = train_test_split(X, y, test_size=0.3, random_state=42)\n",
    "\n",
    "clf = svm.SVC( probability=True)\n",
    "clf.fit(X_train, y_train)\n",
    "y_pred = clf.predict(X_test)"
   ]
  },
  {
   "cell_type": "code",
   "execution_count": null,
   "id": "12bd119a",
   "metadata": {
    "tags": []
   },
   "outputs": [],
   "source": [
    "cm = confusion_matrix(y_test, y_pred)\n",
    "acc = accuracy_score(y_test, y_pred)\n",
    "print('Confusion matrix for hold-out method:')\n",
    "print(cm)\n",
    "print('Accuracy score for hold-out method: {:.2f}%'.format(acc*100))"
   ]
  },
  {
   "cell_type": "code",
   "execution_count": null,
   "id": "5b076763",
   "metadata": {
    "tags": []
   },
   "outputs": [],
   "source": [
    "scaler = StandardScaler()\n",
    "scaler.fit(X_train)\n",
    "\n",
    "X_train = scaler.transform(X_train)\n",
    "X_test = scaler.transform(X_test) \n",
    "\n",
    "classifier = DecisionTreeClassifier()\n",
    "classifier.fit(X_train, y_train) \n",
    "\n",
    "y_predict = classifier.predict(X_test)\n",
    "cm=confusion_matrix(y_test, y_predict)\n",
    "print('confusion_matrix\\n\\n', cm) \n",
    "print('\\nTrue Positives(TP) = ' , cm[0,0])\n",
    "print('\\nTrue Negatives(TN) = ' , cm[1,1]) \n",
    "print('\\nFalse Positives(FP) = ' , cm[0,1]) \n",
    "print('\\nFalse Negatives(FN) = ' , cm[1,0])\n",
    "print(classification_report(y_test, y_predict)) \n",
    "print(\"accuracy=\", accuracy_score(y_test, y_predict))"
   ]
  },
  {
   "cell_type": "code",
   "execution_count": null,
   "id": "7f401c07",
   "metadata": {
    "tags": []
   },
   "outputs": [],
   "source": [
    "\n",
    "\n",
    "scaler = StandardScaler()\n",
    "scaler.fit(X_train)\n",
    "X_train = scaler.transform(X_train)\n",
    "X_test = scaler.transform(X_test)\n",
    "\n",
    "nb_classifier = GaussianNB()\n",
    "\n",
    "nb_classifier.fit(X_train, y_train)\n",
    "\n",
    "y_predict = nb_classifier.predict(X_test)\n",
    "\n",
    "cm = confusion_matrix(y_test, y_predict)\n",
    "print('Confusion_Matrix\\n\\n', cm)\n",
    "\n",
    "print('\\nClassification Report:\\n', classification_report(y_test, y_predict))\n",
    "\n",
    "print(\"Accuracy:\", accuracy_score(y_test, y_predict))\n"
   ]
  },
  {
   "cell_type": "code",
   "execution_count": null,
   "id": "d07f154b",
   "metadata": {
    "tags": []
   },
   "outputs": [],
   "source": [
    "classifier = KNeighborsClassifier(n_neighbors=5)\n",
    "classifier.fit(X_train, y_train) \n",
    "\n",
    "y_predict = classifier.predict(X_test)\n",
    "\n",
    "print(confusion_matrix(y_test, y_predict))\n",
    "\n",
    "print(classification_report(y_test, y_predict)) "
   ]
  },
  {
   "cell_type": "code",
   "execution_count": null,
   "id": "aed3e89d",
   "metadata": {
    "tags": []
   },
   "outputs": [],
   "source": [
    "\n",
    "clf = RandomForestClassifier(n_estimators=100, random_state=42)\n",
    "\n",
    "clf.fit(X_train, y_train)\n",
    "\n",
    "Y_pred = clf.predict(X_test)\n",
    "\n",
    "print(\"Accuracy:\", accuracy_score(y_test,Y_pred))\n",
    "print(\"Classification Report:\\n\", classification_report(y_test, Y_pred))\n",
    "print(\"Confusion Matrix:\\n\", confusion_matrix(y_test, Y_pred))\n"
   ]
  },
  {
   "cell_type": "markdown",
   "id": "fb30d2a6",
   "metadata": {},
   "source": [
    "# 10-fold cross validation"
   ]
  },
  {
   "cell_type": "code",
   "execution_count": null,
   "id": "a4600cd5",
   "metadata": {
    "tags": []
   },
   "outputs": [],
   "source": [
    "\n",
    "kf = KFold(n_splits=10, shuffle=True, random_state=42)\n",
    "scores = cross_val_score(clf, X, y, cv=kf, scoring='accuracy')\n",
    "print('Mean accuracy score for 10-fold cross validation: {:.2f}%'.format(scores.mean()*100))\n",
    "y_pred = cross_val_predict(clf, X, y, cv=kf)\n",
    "cm = confusion_matrix(y, y_pred)\n",
    "print('Confusion matrix for cross validation:')\n",
    "print(cm)"
   ]
  },
  {
   "cell_type": "code",
   "execution_count": null,
   "id": "c1f504af",
   "metadata": {
    "tags": []
   },
   "outputs": [],
   "source": [
    "\n",
    "classifier = RandomForestClassifier(n_estimators=100, random_state=42)\n",
    "\n",
    "scores = cross_val_score(classifier, X, y, cv=10)\n",
    "\n",
    "y_pred = cross_val_predict(classifier, X, y, cv=10)\n",
    "\n",
    "cm = confusion_matrix(y, y_pred)\n",
    "\n",
    "print('Confusion_Matrix\\n\\n', cm)\n",
    "print('\\nTrue Positives(TP) = ', cm[0, 0])\n",
    "print('\\nTrue Negatives(TN) = ', cm[1, 1])\n",
    "print('\\nFalse Positives(FP) = ', cm[0, 1])\n",
    "print('\\nFalse Negatives(FN) = ', cm[1, 0])\n",
    "print('-------------------------------------------------------')\n",
    "print(classification_report(y, y_pred))\n",
    "print('-------------------------------------------------------')\n",
    "print(\"Score:\", scores)\n",
    "print(\"Average Score:\", scores.mean())\n",
    "\n"
   ]
  },
  {
   "cell_type": "code",
   "execution_count": null,
   "id": "b6a664a7",
   "metadata": {
    "tags": []
   },
   "outputs": [],
   "source": [
    "\n",
    "classifier = KNeighborsClassifier()\n",
    "\n",
    "scores = cross_val_score(classifier, X, y, cv=10)\n",
    "\n",
    "y_pred = cross_val_predict(classifier, X, y, cv=10)\n",
    "\n",
    "cm = confusion_matrix(y, y_pred)\n",
    "\n",
    "print('Confusion_Matrix\\n\\n', cm)\n",
    "print('\\nTrue Positives(TP) = ' , cm[0,0])\n",
    "print('\\nTrue Negatives(TN) = ' , cm[1,1]) \n",
    "print('\\nFalse Positives(FP) = ' , cm[0,1])\n",
    "print('\\nFalse Negatives(FN) = ' , cm[1,0]) \n",
    "print('-------------------------------------------------------')\n",
    "print(classification_report(y, y_pred)) \n",
    "print('-------------------------------------------------------')\n",
    "print(\"Score:\", scores)\n",
    "print(\"Average Score:\", scores.mean())\n",
    "print('-------------------------------------------------------')\n",
    "\n"
   ]
  },
  {
   "cell_type": "code",
   "execution_count": null,
   "id": "69de9e1c",
   "metadata": {
    "tags": []
   },
   "outputs": [],
   "source": [
    "\n",
    "\n",
    "classifier = DecisionTreeClassifier()\n",
    "\n",
    "scores = cross_val_score(classifier, X, y, cv=10)\n",
    "\n",
    "y_pred = cross_val_predict(classifier, X, y, cv=10)\n",
    "\n",
    "cm = confusion_matrix(y, y_pred)\n",
    "print('Confusion_Matrix\\n\\n', cm)\n",
    "print('\\nTrue Positives(TP) = ' , cm[0,0])\n",
    "print('\\nTrue Negatives(TN) = ' , cm[1,1]) \n",
    "print('\\nFalse Positives(FP) = ' , cm[0,1])\n",
    "print('\\nFalse Negatives(FN) = ' , cm[1,0]) \n",
    "print('-------------------------------------------------------')\n",
    "\n",
    "print(classification_report(y, y_pred)) \n",
    "print('-------------------------------------------------------')\n",
    "\n",
    "print(\"Score:\", scores)\n",
    "print(\"Average Score:\", scores.mean())\n",
    "print('-------------------------------------------------------')\n"
   ]
  },
  {
   "cell_type": "code",
   "execution_count": null,
   "id": "b08661f5",
   "metadata": {
    "tags": []
   },
   "outputs": [],
   "source": [
    "\n",
    "\n",
    "nb_classifier = GaussianNB()\n",
    "\n",
    "scores = cross_val_score(nb_classifier, X, y, cv=10)\n",
    "\n",
    "y_pred = cross_val_predict(nb_classifier, X, y, cv=10)\n",
    "\n",
    "cm = confusion_matrix(y, y_pred)\n",
    "print('Confusion_Matrix\\n\\n', cm)\n",
    "\n",
    "print('\\nClassification Report:\\n', classification_report(y, y_pred))\n",
    "\n",
    "print('-------------------------------------------------------')\n",
    "print(\"Score:\", scores)\n",
    "print(\"Average Score:\", scores.mean())\n",
    "print('-------------------------------------------------------')\n"
   ]
  },
  {
   "cell_type": "code",
   "execution_count": null,
   "id": "14295ded-da54-4a7d-8b55-90f28998ae5e",
   "metadata": {},
   "outputs": [],
   "source": []
  },
  {
   "cell_type": "code",
   "execution_count": null,
   "id": "eb19c72f-0eb6-4871-a3b8-fce2f5eed682",
   "metadata": {},
   "outputs": [],
   "source": []
  }
 ],
 "metadata": {
  "kernelspec": {
   "display_name": "Python 3 (ipykernel)",
   "language": "python",
   "name": "python3"
  },
  "language_info": {
   "codemirror_mode": {
    "name": "ipython",
    "version": 3
   },
   "file_extension": ".py",
   "mimetype": "text/x-python",
   "name": "python",
   "nbconvert_exporter": "python",
   "pygments_lexer": "ipython3",
   "version": "3.11.7"
  }
 },
 "nbformat": 4,
 "nbformat_minor": 5
}
